{
  "cells": [
    {
      "cell_type": "code",
      "execution_count": 18,
      "metadata": {
        "id": "aYxm8lRT-9Nv"
      },
      "outputs": [],
      "source": [
        "supply = {'texas City' : 2000, 'san antonio' : 2000}\n",
        "hub = {'Los Angeles' : 1000, 'Philadelphia' : 1000, 'Phoenix' : 2000}\n",
        "plants={'Austin' : 1500, 'Baltimore' : 1300, 'Charlotte' : 500, 'Chicago' : 400,\n",
        "           'Columbus' : 300}"
      ]
    },
    {
      "cell_type": "code",
      "execution_count": 19,
      "metadata": {
        "colab": {
          "base_uri": "https://localhost:8080/"
        },
        "id": "i1Q-fOw5-9Nw",
        "outputId": "a2762260-a57b-4509-ad10-0f9c7e42c4af"
      },
      "outputs": [
        {
          "output_type": "stream",
          "name": "stdout",
          "text": [
            "The supply at texas City is 2000\n",
            "The supply at san antonio is 2000\n"
          ]
        }
      ],
      "source": [
        "# test the supply dictionary\n",
        "for i in supply.keys():\n",
        "    print(\"The supply at\",i,\"is\",supply[i])"
      ]
    },
    {
      "cell_type": "code",
      "execution_count": 20,
      "metadata": {
        "id": "g6iylcvM-9Nx"
      },
      "outputs": [],
      "source": [
        "cost1= {( 'texas City', 'Los Angeles') : 203,\n",
        "    ( 'texas City', 'Philadelphia') : 205,\n",
        "    ( 'texas City', 'Phoenix') : 388,\n",
        "    ( 'san antonio', 'Los Angeles') : 444,\n",
        "    ( 'san antonio', 'Philadelphia') : 467,\n",
        "    ( 'san antonio', 'Phoenix') : 467,\n",
        "}"
      ]
    },
    {
      "cell_type": "code",
      "source": [
        "cost2={('Los Angeles', 'Austin') : 740,\n",
        "    ( 'Los Angeles', 'Baltimore') : 794,\n",
        "    ( 'Los Angeles', 'Charlotte') : 916,\n",
        "    ( 'Los Angeles', 'Chicago') : 959,\n",
        "    ( 'Los Angeles', 'Columbus') : 1048,\n",
        "    ( 'Philadelphia', 'Austin') : 1093,\n",
        "    ( 'Philadelphia', 'Baltimore') : 1194,\n",
        "    ( 'Philadelphia', 'Charlotte') : 1312,\n",
        "    ( 'Philadelphia', 'Chicago') : 1319,\n",
        "    ( 'Philadelphia', 'Columbus') : 1329,\n",
        "    ( 'Phoenix', 'Austin') : 1384,\n",
        "    ( 'Phoenix', 'Baltimore') : 1448,\n",
        "    ( 'Phoenix', 'Charlotte') : 1585,\n",
        "    ( 'Phoenix', 'Chicago') : 1626,\n",
        "    ( 'Phoenix', 'Columbus') : 781}\n"
      ],
      "metadata": {
        "id": "B27amaIxCokA"
      },
      "execution_count": 21,
      "outputs": []
    },
    {
      "cell_type": "code",
      "execution_count": 22,
      "metadata": {
        "colab": {
          "base_uri": "https://localhost:8080/"
        },
        "id": "IlblM7zd-9Nx",
        "outputId": "5c759752-4d66-4b75-dd5c-d9a248980b26"
      },
      "outputs": [
        {
          "output_type": "stream",
          "name": "stdout",
          "text": [
            "Ship-froms are ['texas City', 'san antonio']\n",
            "Ship-tos are ['Los Angeles', 'Philadelphia', 'Phoenix']\n",
            "Ship-to2s are ['Austin', 'Baltimore', 'Charlotte', 'Chicago', 'Columbus']\n"
          ]
        }
      ],
      "source": [
        "# define the ship_froms and ship_tos\n",
        "ship_froms = [ key for key in supply.keys() ]\n",
        "print(\"Ship-froms are\",ship_froms)\n",
        "\n",
        "ship_tos = [ key for key in hub.keys() ]\n",
        "print(\"Ship-tos are\",ship_tos)\n",
        "\n",
        "ship_to2s = [ key for key in plants.keys() ]\n",
        "print(\"Ship-to2s are\",ship_to2s)"
      ]
    },
    {
      "cell_type": "code",
      "execution_count": 23,
      "metadata": {
        "colab": {
          "base_uri": "https://localhost:8080/"
        },
        "id": "b9nkYXYb-9Ny",
        "outputId": "cb1d957d-def0-40de-d021-0085bf36c1de"
      },
      "outputs": [
        {
          "output_type": "stream",
          "name": "stdout",
          "text": [
            "Requirement already satisfied: gurobipy in /usr/local/lib/python3.10/dist-packages (10.0.2)\n"
          ]
        }
      ],
      "source": [
        "# import gurobi\n",
        "!pip install gurobipy\n",
        "import gurobipy as gp\n",
        "from gurobipy import GRB"
      ]
    },
    {
      "cell_type": "code",
      "execution_count": 24,
      "metadata": {
        "id": "enmN89mQ-9Ny"
      },
      "outputs": [],
      "source": [
        "# create model object\n",
        "m = gp.Model()\n",
        "\n",
        "# create transportation variables\n",
        "x = m.addVars( ship_froms, ship_tos )\n",
        "y = m.addVars( ship_tos, ship_to2s )"
      ]
    },
    {
      "cell_type": "code",
      "execution_count": 25,
      "metadata": {
        "id": "wYIUdIfv-9Ny"
      },
      "outputs": [],
      "source": [
        "# set objective function (minimize transportation cost)\n",
        "m.setObjective( gp.quicksum(cost1[i,j] * x[i,j] for i,j in cost1.keys())\n",
        "              + gp.quicksum(cost2[i,j] * y[i,j] for i,j in cost2.keys()) , GRB.MINIMIZE )"
      ]
    },
    {
      "cell_type": "code",
      "execution_count": 26,
      "metadata": {
        "colab": {
          "base_uri": "https://localhost:8080/"
        },
        "id": "0MtKu_nX-9Ny",
        "outputId": "15d7dec9-d3da-498b-ef25-da82f6772c18"
      },
      "outputs": [
        {
          "output_type": "execute_result",
          "data": {
            "text/plain": [
              "{'texas City': <gurobi.Constr *Awaiting Model Update*>,\n",
              " 'san antonio': <gurobi.Constr *Awaiting Model Update*>}"
            ]
          },
          "metadata": {},
          "execution_count": 26
        }
      ],
      "source": [
        "# add supply constraints\n",
        "m.addConstrs( gp.quicksum( x[i,j] for j in ship_tos ) <= supply[i] for i in ship_froms )"
      ]
    },
    {
      "cell_type": "code",
      "source": [
        "m.addConstrs( gp.quicksum( y[j,k] for k in ship_to2s ) <= hub[j] for j in ship_tos )"
      ],
      "metadata": {
        "colab": {
          "base_uri": "https://localhost:8080/"
        },
        "id": "T9lB4eqjII77",
        "outputId": "be5d8afc-5a2e-4353-e4d7-6dad437d1a5b"
      },
      "execution_count": 27,
      "outputs": [
        {
          "output_type": "execute_result",
          "data": {
            "text/plain": [
              "{'Los Angeles': <gurobi.Constr *Awaiting Model Update*>,\n",
              " 'Philadelphia': <gurobi.Constr *Awaiting Model Update*>,\n",
              " 'Phoenix': <gurobi.Constr *Awaiting Model Update*>}"
            ]
          },
          "metadata": {},
          "execution_count": 27
        }
      ]
    },
    {
      "cell_type": "code",
      "execution_count": 28,
      "metadata": {
        "colab": {
          "base_uri": "https://localhost:8080/"
        },
        "id": "eTqa7hxP-9Ny",
        "outputId": "640c93a3-45b3-4623-9ad7-3a10a887d5ec"
      },
      "outputs": [
        {
          "output_type": "execute_result",
          "data": {
            "text/plain": [
              "{'Austin': <gurobi.Constr *Awaiting Model Update*>,\n",
              " 'Baltimore': <gurobi.Constr *Awaiting Model Update*>,\n",
              " 'Charlotte': <gurobi.Constr *Awaiting Model Update*>,\n",
              " 'Chicago': <gurobi.Constr *Awaiting Model Update*>,\n",
              " 'Columbus': <gurobi.Constr *Awaiting Model Update*>}"
            ]
          },
          "metadata": {},
          "execution_count": 28
        }
      ],
      "source": [
        "# add demand constraints\n",
        "m.addConstrs( gp.quicksum( y[j,k] for j in ship_tos ) == plants[k] for k in ship_to2s )"
      ]
    },
    {
      "cell_type": "code",
      "source": [
        "m.addConstrs(gp.quicksum( x[i,j] for i in ship_froms) == gp.quicksum( y[j,k] for k in ship_to2s) for j in ship_tos)"
      ],
      "metadata": {
        "colab": {
          "base_uri": "https://localhost:8080/"
        },
        "id": "eUOi_tgTJ-IR",
        "outputId": "84d19449-0696-4966-b154-512dd8219a48"
      },
      "execution_count": 29,
      "outputs": [
        {
          "output_type": "execute_result",
          "data": {
            "text/plain": [
              "{'Los Angeles': <gurobi.Constr *Awaiting Model Update*>,\n",
              " 'Philadelphia': <gurobi.Constr *Awaiting Model Update*>,\n",
              " 'Phoenix': <gurobi.Constr *Awaiting Model Update*>}"
            ]
          },
          "metadata": {},
          "execution_count": 29
        }
      ]
    },
    {
      "cell_type": "code",
      "execution_count": 30,
      "metadata": {
        "colab": {
          "base_uri": "https://localhost:8080/"
        },
        "id": "Ufx3PdU6-9Nz",
        "outputId": "456780b7-400d-4376-9e9e-6f5a4a480cc7"
      },
      "outputs": [
        {
          "output_type": "stream",
          "name": "stdout",
          "text": [
            "Gurobi Optimizer version 10.0.2 build v10.0.2rc0 (linux64)\n",
            "\n",
            "CPU model: Intel(R) Xeon(R) CPU @ 2.20GHz, instruction set [SSE2|AVX|AVX2]\n",
            "Thread count: 1 physical cores, 2 logical processors, using up to 2 threads\n",
            "\n",
            "Optimize a model with 13 rows, 21 columns and 57 nonzeros\n",
            "Model fingerprint: 0xe0f71454\n",
            "Coefficient statistics:\n",
            "  Matrix range     [1e+00, 1e+00]\n",
            "  Objective range  [2e+02, 2e+03]\n",
            "  Bounds range     [0e+00, 0e+00]\n",
            "  RHS range        [3e+02, 2e+03]\n",
            "Presolve time: 0.01s\n",
            "Presolved: 13 rows, 21 columns, 57 nonzeros\n",
            "\n",
            "Iteration    Objective       Primal Inf.    Dual Inf.      Time\n",
            "       0    3.2181000e+06   6.700000e+03   0.000000e+00      0s\n",
            "       8    6.0187000e+06   0.000000e+00   0.000000e+00      0s\n",
            "\n",
            "Solved in 8 iterations and 0.02 seconds (0.00 work units)\n",
            "Optimal objective  6.018700000e+06\n"
          ]
        }
      ],
      "source": [
        "# solve model\n",
        "m.optimize()"
      ]
    },
    {
      "cell_type": "code",
      "execution_count": 31,
      "metadata": {
        "colab": {
          "base_uri": "https://localhost:8080/"
        },
        "id": "SXqIwuFs-9Nz",
        "outputId": "386a51c6-278f-465a-f6c8-f67938fcb189"
      },
      "outputs": [
        {
          "output_type": "stream",
          "name": "stdout",
          "text": [
            "The total transportation cost is 6018700.0\n",
            "This is a cost of 1003.1166666666667\n",
            "From texas City to Los Angeles ship 1000.0\n",
            "From texas City to Philadelphia ship 1000.0\n",
            "From texas City to Phoenix ship 0.0\n",
            "From san antonio to Los Angeles ship 0.0\n",
            "From san antonio to Philadelphia ship 0.0\n",
            "From san antonio to Phoenix ship 2000.0\n"
          ]
        }
      ],
      "source": [
        "print(\"The total transportation cost is\",m.objVal)\n",
        "print(\"This is a cost of\",m.objVal/6000)\n",
        "for i in ship_froms:\n",
        "    for j in ship_tos:\n",
        "        print(\"From\",i,\"to\",j,\"ship\",x[i,j].x)"
      ]
    },
    {
      "cell_type": "code",
      "source": [
        "print(\"The total transportation cost is\",m.objVal)\n",
        "print(\"This is a cost of\",m.objVal/6000)\n",
        "for j in ship_tos:\n",
        "    for k in ship_to2s:\n",
        "        print(\"From\",j,\"to\",k,\"ship\",y[j,k].x)"
      ],
      "metadata": {
        "colab": {
          "base_uri": "https://localhost:8080/"
        },
        "id": "ZNkqbC9BNA84",
        "outputId": "62b3bea4-9529-497b-da4d-31d6cfa60d78"
      },
      "execution_count": 32,
      "outputs": [
        {
          "output_type": "stream",
          "name": "stdout",
          "text": [
            "The total transportation cost is 6018700.0\n",
            "This is a cost of 1003.1166666666667\n",
            "From Los Angeles to Austin ship 0.0\n",
            "From Los Angeles to Baltimore ship 500.0\n",
            "From Los Angeles to Charlotte ship 500.0\n",
            "From Los Angeles to Chicago ship 0.0\n",
            "From Los Angeles to Columbus ship 0.0\n",
            "From Philadelphia to Austin ship 600.0\n",
            "From Philadelphia to Baltimore ship 0.0\n",
            "From Philadelphia to Charlotte ship 0.0\n",
            "From Philadelphia to Chicago ship 400.0\n",
            "From Philadelphia to Columbus ship 0.0\n",
            "From Phoenix to Austin ship 900.0\n",
            "From Phoenix to Baltimore ship 800.0\n",
            "From Phoenix to Charlotte ship 0.0\n",
            "From Phoenix to Chicago ship 0.0\n",
            "From Phoenix to Columbus ship 300.0\n"
          ]
        }
      ]
    },
    {
      "cell_type": "code",
      "execution_count": 33,
      "metadata": {
        "colab": {
          "base_uri": "https://localhost:8080/"
        },
        "id": "OQyIaLgx-9Nz",
        "outputId": "db1c7b23-dda0-4bb6-f115-095047e0a114"
      },
      "outputs": [
        {
          "output_type": "stream",
          "name": "stdout",
          "text": [
            "The total transportation cost is 6018700.0\n",
            "This is a cost of 1003.1166666666667\n",
            "From texas City to Los Angeles ship 1000.0\n",
            "From texas City to Philadelphia ship 1000.0\n",
            "From san antonio to Phoenix ship 2000.0\n"
          ]
        }
      ],
      "source": [
        "print(\"The total transportation cost is\",m.objVal)\n",
        "print(\"This is a cost of\",m.objVal/6000)\n",
        "for i in ship_froms:\n",
        "    for j in ship_tos:\n",
        "        if x[i,j].x > 0.5:\n",
        "            print(\"From\",i,\"to\",j,\"ship\",x[i,j].x)"
      ]
    },
    {
      "cell_type": "code",
      "execution_count": 34,
      "metadata": {
        "colab": {
          "base_uri": "https://localhost:8080/"
        },
        "id": "na6as9oD-9Nz",
        "outputId": "d192dd18-9ad6-4bf1-b66c-ca59a9e533d2"
      },
      "outputs": [
        {
          "output_type": "stream",
          "name": "stdout",
          "text": [
            "The total transportation cost is 6018700.0\n",
            "This is a cost of 1003.1166666666667 per drum set.\n",
            "From Los Angeles to Baltimore ship 500.0 drum sets (or pallets).\n",
            "From Los Angeles to Charlotte ship 500.0 drum sets (or pallets).\n",
            "From Philadelphia to Austin ship 600.0 drum sets (or pallets).\n",
            "From Philadelphia to Chicago ship 400.0 drum sets (or pallets).\n",
            "From Phoenix to Austin ship 900.0 drum sets (or pallets).\n",
            "From Phoenix to Baltimore ship 800.0 drum sets (or pallets).\n",
            "From Phoenix to Columbus ship 300.0 drum sets (or pallets).\n"
          ]
        }
      ],
      "source": [
        "print(\"The total transportation cost is\",m.objVal)\n",
        "print(\"This is a cost of\",m.objVal/6000,\"per drum set.\")\n",
        "for j in ship_tos:\n",
        "    for k in ship_to2s:\n",
        "        if y[j,k].x > 0.5:\n",
        "            print(\"From\",j,\"to\",k,\"ship\",y[j,k].x,\"drum sets (or pallets).\")"
      ]
    }
  ],
  "metadata": {
    "kernelspec": {
      "display_name": "Python 3",
      "language": "python",
      "name": "python3"
    },
    "language_info": {
      "codemirror_mode": {
        "name": "ipython",
        "version": 3
      },
      "file_extension": ".py",
      "mimetype": "text/x-python",
      "name": "python",
      "nbconvert_exporter": "python",
      "pygments_lexer": "ipython3",
      "version": "3.7.10"
    },
    "colab": {
      "provenance": []
    }
  },
  "nbformat": 4,
  "nbformat_minor": 0
}